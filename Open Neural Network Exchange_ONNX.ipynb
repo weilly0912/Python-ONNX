{
 "cells": [
  {
   "cell_type": "markdown",
   "metadata": {},
   "source": [
    "# **[ONNX Tutorials](https://github.com/onnx/tutorials#converting-to-onnx-format)**"
   ]
  },
  {
   "cell_type": "markdown",
   "metadata": {},
   "source": [
    "### **[(1) ONNX_Model_Transform 模組轉換大公開](https://colab.research.google.com/drive/1VPU9IMdRNcpd9rn2b8Ves1u_36inELnP?usp=sharing)**\n",
    "\n",
    "### **[(2) ONNX Runtime Example : Object Detector - Fast RCNN](https://colab.research.google.com/drive/1ddt25yXybDix0n-sLUP83Hdlkl2P16Y9?usp=sharing)**"
   ]
  },
  {
   "cell_type": "code",
   "execution_count": 10,
   "metadata": {},
   "outputs": [],
   "source": [
    "# Please link to COLAB"
   ]
  },
  {
   "cell_type": "code",
   "execution_count": null,
   "metadata": {},
   "outputs": [],
   "source": []
  }
 ],
 "metadata": {
  "kernelspec": {
   "display_name": "Python 3",
   "language": "python",
   "name": "python3"
  },
  "language_info": {
   "codemirror_mode": {
    "name": "ipython",
    "version": 3
   },
   "file_extension": ".py",
   "mimetype": "text/x-python",
   "name": "python",
   "nbconvert_exporter": "python",
   "pygments_lexer": "ipython3",
   "version": "3.7.1"
  }
 },
 "nbformat": 4,
 "nbformat_minor": 4
}
